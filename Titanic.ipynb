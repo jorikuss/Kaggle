{
 "cells": [
  {
   "cell_type": "code",
   "execution_count": null,
   "outputs": [],
   "source": [
    "import pandas as pd\n",
    "import matplotlib.pyplot as plt\n",
    "from sklearn import tree, model_selection, linear_model, preprocessing\n"
   ],
   "metadata": {
    "collapsed": false,
    "pycharm": {
     "name": "#%%\n"
    }
   }
  },
  {
   "cell_type": "code",
   "execution_count": null,
   "outputs": [],
   "source": [
    "df = pd.read_csv(\"train.csv\")\n",
    "cfig = plt.figure(figsize=(18,6))\n",
    "plt.subplot2grid((2,3),(0,0))\n",
    "df.Survived.value_counts(normalize=True).plot(kind='bar',alpha = 0.5)\n",
    "plt.title(\"Survived\")\n",
    "\n",
    "plt.subplot2grid((2,3),(0,1))\n",
    "plt.scatter(df.Survived, df.Age,alpha = 0.1)\n",
    "plt.title(\"Age wrt Survived\")\n",
    "\n",
    "plt.subplot2grid((2,3),(0,2))\n",
    "df.Pclass.value_counts(normalize=True).plot(kind='bar',alpha = 0.5)\n",
    "plt.title(\"Survived\")\n",
    "\n",
    "plt.subplot2grid((2,3),(1,0),colspan=2)\n",
    "for x in [1,2,3]:\n",
    "  df.Age[df.Pclass == x].plot(kind = \"kde\")\n",
    "plt.title(\"Class wrt Age\")\n",
    "plt.legend((\"1st\",\"2nd\",\"3rd\"))\n",
    "\n",
    "plt.subplot2grid((2,3),(1,2))\n",
    "df.Embarked.value_counts(normalize=True).plot(kind=\"bar\",alpha=0.5)\n",
    "plt.title(\"Embarked\")\n",
    "\n",
    "plt.show()"
   ],
   "metadata": {
    "collapsed": false,
    "pycharm": {
     "name": "#%%\n"
    }
   }
  },
  {
   "cell_type": "code",
   "execution_count": null,
   "outputs": [],
   "source": [
    "fig = plt.figure(figsize=(18,10))\n",
    "\n",
    "female_color = \"#FA0000\"\n",
    "\n",
    "plt.subplot2grid((3,4),(0,0))\n",
    "df.Survived.value_counts(normalize=True).plot(kind='bar',alpha = 0.5)\n",
    "plt.title(\"Survived\")\n",
    "\n",
    "plt.subplot2grid((3,4),(0,1))\n",
    "df.Survived[df.Sex == \"male\"].value_counts(normalize=True).plot(kind='bar',alpha = 0.5)\n",
    "plt.title(\"Men Survived\")\n",
    "\n",
    "plt.subplot2grid((3,4),(0,2))\n",
    "df.Survived[df.Sex == \"female\"].value_counts(normalize=True).plot(kind='bar',alpha = 0.5, color = female_color)\n",
    "plt.title(\"Women Survived\")\n",
    "\n",
    "plt.subplot2grid((3,4),(0,3))\n",
    "df.Sex[df.Survived == 1].value_counts(normalize=True).plot(kind='bar',alpha = 0.5, color = [female_color,\"b\"])\n",
    "plt.title(\"Sex of Survived\")\n",
    "\n",
    "plt.subplot2grid((3,4),(1,0), colspan = 4)\n",
    "for x in [1,2,3]:\n",
    "  df.Survived[df.Pclass == x].plot(kind = \"kde\")\n",
    "plt.title(\"Class wrt Survived\")\n",
    "plt.legend((\"1st\",\"2nd\",\"3rd\"))\n",
    "\n",
    "plt.subplot2grid((3,4),(2,0))\n",
    "df.Survived[(df.Sex ==\"male\") & (df.Pclass == 1)].value_counts(normalize=True).plot(kind = \"bar\",alpha=0.5)\n",
    "plt.title(\"Rich Men Survived\")\n",
    "\n",
    "plt.subplot2grid((3,4),(2,1))\n",
    "df.Survived[(df.Sex ==\"male\") & (df.Pclass == 3)].value_counts(normalize=True).plot(kind = \"bar\",alpha=0.5)\n",
    "plt.title(\"Poor Men Survived\")\n",
    "\n",
    "plt.subplot2grid((3,4),(2,2))\n",
    "df.Survived[(df.Sex ==\"female\") & (df.Pclass == 1)].value_counts(normalize=True).plot(kind = \"bar\",alpha=0.5,color = female_color)\n",
    "plt.title(\"Rich Women Survived\")\n",
    "\n",
    "plt.subplot2grid((3,4),(2,3))\n",
    "df.Survived[(df.Sex ==\"female\") & (df.Pclass == 3)].value_counts(normalize=True).plot(kind = \"bar\",alpha=0.5,color = female_color)\n",
    "plt.title(\"Poor Women Survived\")\n"
   ],
   "metadata": {
    "collapsed": false,
    "pycharm": {
     "name": "#%%\n"
    }
   }
  },
  {
   "cell_type": "markdown",
   "source": [],
   "metadata": {
    "collapsed": false
   }
  },
  {
   "cell_type": "code",
   "execution_count": null,
   "outputs": [],
   "source": [
    "train = pd.read_csv(\"train.csv\")\n",
    "\n",
    "train[\"Hyp\"] = 0\n",
    "train.loc[train.Sex == \"female\", \"Hyp\"] = 1\n",
    "\n",
    "train[\"Result\"] = 0\n",
    "train.loc[train.Survived == train[\"Hyp\"], \"Result\"] = 1\n",
    "\n",
    "print(train[\"Result\"].value_counts(normalize=True))"
   ],
   "metadata": {
    "collapsed": false,
    "pycharm": {
     "name": "#%%\n"
    }
   }
  },
  {
   "cell_type": "code",
   "execution_count": null,
   "outputs": [],
   "source": [
    "def clean_data(data):\n",
    "  data[\"Fare\"] = data[\"Fare\"].fillna(data[\"Fare\"].dropna().median())\n",
    "  data[\"Age\"] = data[\"Age\"].fillna(data[\"Age\"].dropna().median())\n",
    "\n",
    "  data.loc[data[\"Sex\"] == \"male\",\"Sex\"] = 0\n",
    "  data.loc[data[\"Sex\"] == \"female\",\"Sex\"] = 1\n",
    "\n",
    "  data[\"Embarked\"] = data[\"Embarked\"].fillna(\"S\")\n",
    "  data.loc[data[\"Embarked\"] == \"S\", \"Embarked\"] = 0\n",
    "  data.loc[data[\"Embarked\"] == \"C\", \"Embarked\"] = 1\n",
    "  data.loc[data[\"Embarked\"] == \"Q\", \"Embarked\"] = 2\n",
    "\n",
    "  return(data)"
   ],
   "metadata": {
    "collapsed": false,
    "pycharm": {
     "name": "#%%\n"
    }
   }
  },
  {
   "cell_type": "code",
   "execution_count": null,
   "outputs": [],
   "source": [
    "train = pd.read_csv(\"train.csv\")\n",
    "train = clean_data(train)\n",
    "\n",
    "target = train[\"Survived\"].to_numpy()\n",
    "features = train[[\"Pclass\", \"Age\",\"Fare\",\"Embarked\",\"Sex\",\"SibSp\",\"Parch\"]].to_numpy() "
   ],
   "metadata": {
    "collapsed": false,
    "pycharm": {
     "name": "#%%\n"
    }
   }
  },
  {
   "cell_type": "code",
   "execution_count": null,
   "outputs": [],
   "source": [
    "classifier = linear_model.LogisticRegression()\n",
    "classifier_ = classifier.fit(features, target)\n",
    "\n",
    "print(classifier_.score(features, target))\n",
    "\n",
    "poly = preprocessing.PolynomialFeatures(degree=2)\n",
    "poly_features = poly.fit_transform(features)\n",
    "\n",
    "classifier_ = classifier.fit(poly_features, target)\n",
    "print(classifier_.score(poly_features,target))"
   ],
   "metadata": {
    "collapsed": false,
    "pycharm": {
     "name": "#%%\n"
    }
   }
  },
  {
   "cell_type": "code",
   "execution_count": null,
   "outputs": [],
   "source": [
    "train = pd.read_csv(\"train.csv\")\n",
    "train = clean_data(train)\n",
    "\n",
    "target = train[\"Survived\"].to_numpy()\n",
    "feature_names = [\"Pclass\", \"Age\",\"Fare\",\"Embarked\",\"Sex\",\"SibSp\",\"Parch\"]\n",
    "feature = train[feature_names].to_numpy()\n",
    "\n",
    "generalised_tree = tree.DecisionTreeClassifier(\n",
    "    random_state = 1,\n",
    "    max_depth = 7,\n",
    "    min_samples_split = 2)\n",
    "generalised_tree_ = generalised_tree.fit(feature,target)\n",
    "print(generalised_tree_.score(feature,target))\n",
    "\n",
    "scores = model_selection.cross_val_score(generalised_tree,features,target,scoring=\"accuracy\", cv = 50)\n",
    "print(scores)\n",
    "print(scores.mean())\n",
    "\n",
    "\n",
    "tree.export_graphviz(generalised_tree_, feature_names=feature_names, out_file = \"tree.dot\")\n"
   ],
   "metadata": {
    "collapsed": false,
    "pycharm": {
     "name": "#%%\n"
    }
   }
  }
 ],
 "metadata": {
  "colab": {
   "authorship_tag": "ABX9TyMv8oEnggLjCniT4XN6GKIE",
   "collapsed_sections": [],
   "include_colab_link": true,
   "name": "Titanic",
   "provenance": []
  },
  "kernelspec": {
   "display_name": "Python 3",
   "language": "python",
   "name": "python3"
  },
  "language_info": {
   "codemirror_mode": {
    "name": "ipython",
    "version": 3
   },
   "file_extension": ".py",
   "mimetype": "text/x-python",
   "name": "python",
   "nbconvert_exporter": "python",
   "pygments_lexer": "ipython3",
   "version": "3.8.2"
  },
  "pycharm": {
   "stem_cell": {
    "cell_type": "raw",
    "source": [],
    "metadata": {
     "collapsed": false
    }
   }
  }
 },
 "nbformat": 4,
 "nbformat_minor": 1
}